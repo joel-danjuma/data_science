{
 "nbformat": 4,
 "nbformat_minor": 2,
 "metadata": {
  "language_info": {
   "name": "python",
   "codemirror_mode": {
    "name": "ipython",
    "version": 3
   },
   "version": "3.8.2-final"
  },
  "orig_nbformat": 2,
  "file_extension": ".py",
  "mimetype": "text/x-python",
  "name": "python",
  "npconvert_exporter": "python",
  "pygments_lexer": "ipython3",
  "version": 3,
  "kernelspec": {
   "name": "python38264bitvenvvenv94d4ed780e874515be4ea36ca9d84a6a",
   "display_name": "Python 3.8.2 64-bit ('venv': venv)"
  }
 },
 "cells": [
  {
   "cell_type": "code",
   "execution_count": 133,
   "metadata": {},
   "outputs": [],
   "source": [
    "import pandas as pd\n",
    "import numpy as np\n",
    "from sklearn.tree import DecisionTreeRegressor\n",
    "import os "
   ]
  },
  {
   "cell_type": "code",
   "execution_count": 134,
   "metadata": {},
   "outputs": [],
   "source": [
    "pwd = os.getcwd()"
   ]
  },
  {
   "cell_type": "code",
   "execution_count": 207,
   "metadata": {},
   "outputs": [],
   "source": [
    "dataset = 'Nigerian_Car_Prices.csv'\n",
    "data_import = pd.read_csv(dataset)\n",
    "df = data_import.copy()"
   ]
  },
  {
   "cell_type": "code",
   "execution_count": 208,
   "metadata": {},
   "outputs": [],
   "source": [
    "df = df.dropna(axis=0)\n",
    "df.drop(\"Index\", axis=1, inplace=True)"
   ]
  },
  {
   "cell_type": "code",
   "execution_count": 209,
   "metadata": {},
   "outputs": [],
   "source": [
    "data_features = ['Make', 'Price', 'Mileage']\n",
    "y = df[\"Condition\"]\n",
    "X = df[data_features]"
   ]
  },
  {
   "cell_type": "code",
   "execution_count": 198,
   "metadata": {},
   "outputs": [],
   "source": [
    "# df_model = DecisionTreeRegressor(random_state=1)\n",
    "# df_model.fit(X,y)"
   ]
  },
  {
   "cell_type": "code",
   "execution_count": 210,
   "metadata": {},
   "outputs": [
    {
     "output_type": "execute_result",
     "data": {
      "text/plain": "               Make  Year of manufacture      Condition   Mileage  \\\n32            Lexus               2011.0  Nigerian Used  105546.0   \n44           Toyota               2014.0  Nigerian Used  216924.0   \n50           Toyota               2014.0  Nigerian Used  216924.0   \n54            Lexus               2016.0  Nigerian Used  107355.0   \n57    Mercedes-Benz               2007.0   Foreign Used  209466.0   \n...             ...                  ...            ...       ...   \n4067         Toyota               2001.0  Nigerian Used  151916.0   \n4075         Toyota               2007.0  Nigerian Used  126793.0   \n4076  Mercedes-Benz               2007.0  Nigerian Used  201183.0   \n4084          Lexus               2006.0  Nigerian Used  183979.0   \n4085          Honda               2013.0  Nigerian Used  103704.0   \n\n      Engine Size    Fuel Transmission       Price Build  \n32         4600.0  Petrol    Automatic  14,040,000   SUV  \n44         2500.0  Petrol    Automatic   9,360,000   SUV  \n50         2500.0  Petrol    Automatic   9,360,000   SUV  \n54         5700.0  Petrol    Automatic  42,000,000   SUV  \n57         4700.0  Petrol    Automatic   4,515,000   SUV  \n...           ...     ...          ...         ...   ...  \n4067       3000.0  Petrol    Automatic   1,575,000   SUV  \n4075       3300.0  Hybrid    Automatic   2,981,250   SUV  \n4076       4700.0  Petrol    Automatic   5,625,000   SUV  \n4084       4700.0  Petrol    Automatic   5,720,000   SUV  \n4085         25.0  Petrol    Automatic   5,625,000   SUV  \n\n[1101 rows x 9 columns]",
      "text/html": "<div>\n<style scoped>\n    .dataframe tbody tr th:only-of-type {\n        vertical-align: middle;\n    }\n\n    .dataframe tbody tr th {\n        vertical-align: top;\n    }\n\n    .dataframe thead th {\n        text-align: right;\n    }\n</style>\n<table border=\"1\" class=\"dataframe\">\n  <thead>\n    <tr style=\"text-align: right;\">\n      <th></th>\n      <th>Make</th>\n      <th>Year of manufacture</th>\n      <th>Condition</th>\n      <th>Mileage</th>\n      <th>Engine Size</th>\n      <th>Fuel</th>\n      <th>Transmission</th>\n      <th>Price</th>\n      <th>Build</th>\n    </tr>\n  </thead>\n  <tbody>\n    <tr>\n      <th>32</th>\n      <td>Lexus</td>\n      <td>2011.0</td>\n      <td>Nigerian Used</td>\n      <td>105546.0</td>\n      <td>4600.0</td>\n      <td>Petrol</td>\n      <td>Automatic</td>\n      <td>14,040,000</td>\n      <td>SUV</td>\n    </tr>\n    <tr>\n      <th>44</th>\n      <td>Toyota</td>\n      <td>2014.0</td>\n      <td>Nigerian Used</td>\n      <td>216924.0</td>\n      <td>2500.0</td>\n      <td>Petrol</td>\n      <td>Automatic</td>\n      <td>9,360,000</td>\n      <td>SUV</td>\n    </tr>\n    <tr>\n      <th>50</th>\n      <td>Toyota</td>\n      <td>2014.0</td>\n      <td>Nigerian Used</td>\n      <td>216924.0</td>\n      <td>2500.0</td>\n      <td>Petrol</td>\n      <td>Automatic</td>\n      <td>9,360,000</td>\n      <td>SUV</td>\n    </tr>\n    <tr>\n      <th>54</th>\n      <td>Lexus</td>\n      <td>2016.0</td>\n      <td>Nigerian Used</td>\n      <td>107355.0</td>\n      <td>5700.0</td>\n      <td>Petrol</td>\n      <td>Automatic</td>\n      <td>42,000,000</td>\n      <td>SUV</td>\n    </tr>\n    <tr>\n      <th>57</th>\n      <td>Mercedes-Benz</td>\n      <td>2007.0</td>\n      <td>Foreign Used</td>\n      <td>209466.0</td>\n      <td>4700.0</td>\n      <td>Petrol</td>\n      <td>Automatic</td>\n      <td>4,515,000</td>\n      <td>SUV</td>\n    </tr>\n    <tr>\n      <th>...</th>\n      <td>...</td>\n      <td>...</td>\n      <td>...</td>\n      <td>...</td>\n      <td>...</td>\n      <td>...</td>\n      <td>...</td>\n      <td>...</td>\n      <td>...</td>\n    </tr>\n    <tr>\n      <th>4067</th>\n      <td>Toyota</td>\n      <td>2001.0</td>\n      <td>Nigerian Used</td>\n      <td>151916.0</td>\n      <td>3000.0</td>\n      <td>Petrol</td>\n      <td>Automatic</td>\n      <td>1,575,000</td>\n      <td>SUV</td>\n    </tr>\n    <tr>\n      <th>4075</th>\n      <td>Toyota</td>\n      <td>2007.0</td>\n      <td>Nigerian Used</td>\n      <td>126793.0</td>\n      <td>3300.0</td>\n      <td>Hybrid</td>\n      <td>Automatic</td>\n      <td>2,981,250</td>\n      <td>SUV</td>\n    </tr>\n    <tr>\n      <th>4076</th>\n      <td>Mercedes-Benz</td>\n      <td>2007.0</td>\n      <td>Nigerian Used</td>\n      <td>201183.0</td>\n      <td>4700.0</td>\n      <td>Petrol</td>\n      <td>Automatic</td>\n      <td>5,625,000</td>\n      <td>SUV</td>\n    </tr>\n    <tr>\n      <th>4084</th>\n      <td>Lexus</td>\n      <td>2006.0</td>\n      <td>Nigerian Used</td>\n      <td>183979.0</td>\n      <td>4700.0</td>\n      <td>Petrol</td>\n      <td>Automatic</td>\n      <td>5,720,000</td>\n      <td>SUV</td>\n    </tr>\n    <tr>\n      <th>4085</th>\n      <td>Honda</td>\n      <td>2013.0</td>\n      <td>Nigerian Used</td>\n      <td>103704.0</td>\n      <td>25.0</td>\n      <td>Petrol</td>\n      <td>Automatic</td>\n      <td>5,625,000</td>\n      <td>SUV</td>\n    </tr>\n  </tbody>\n</table>\n<p>1101 rows × 9 columns</p>\n</div>"
     },
     "metadata": {},
     "execution_count": 210
    }
   ],
   "source": [
    "df"
   ]
  },
  {
   "cell_type": "code",
   "execution_count": null,
   "metadata": {},
   "outputs": [],
   "source": []
  }
 ]
}